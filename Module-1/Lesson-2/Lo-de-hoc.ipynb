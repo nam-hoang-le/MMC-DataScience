{
 "cells": [
  {
   "cell_type": "code",
   "execution_count": 1,
   "metadata": {},
   "outputs": [],
   "source": [
    "import random\n",
    "from IPython.display import clear_output"
   ]
  },
  {
   "cell_type": "code",
   "execution_count": 2,
   "metadata": {},
   "outputs": [],
   "source": [
    "tong_tien = 100000"
   ]
  },
  {
   "cell_type": "code",
   "execution_count": 3,
   "metadata": {},
   "outputs": [],
   "source": [
    "def quay_so(): \n",
    "    danh_sach_giai = [random.randint(10, 99) for _ in range(7)]\n",
    "    return danh_sach_giai\n",
    "\n",
    "danh_sach_giai = quay_so()"
   ]
  },
  {
   "cell_type": "code",
   "execution_count": 4,
   "metadata": {},
   "outputs": [
    {
     "name": "stdout",
     "output_type": "stream",
     "text": [
      "------------------------------\n",
      "---DANH SÁCH GIẢI---\n",
      "         Giải 1 là 80\n",
      "         Giải 2 là 77\n",
      "         Giải 3 là 27\n",
      "         Giải 4 là 15\n",
      "         Giải 5 là 13\n",
      "         Giải 6 là 10\n",
      "         Giải 7 là 53\n",
      "------------------------------\n"
     ]
    }
   ],
   "source": [
    "def in_danh_sach_giai(danh_sach_giai): \n",
    "    print('-' * 30)\n",
    "    print(\"---DANH SÁCH GIẢI---\")\n",
    "    for i, giai in enumerate(danh_sach_giai, start=1):\n",
    "        print(f'         Giải {i} là {giai}')\n",
    "    print('-' * 30)\n",
    "\n",
    "in_danh_sach_giai(danh_sach_giai)"
   ]
  },
  {
   "cell_type": "code",
   "execution_count": 5,
   "metadata": {},
   "outputs": [],
   "source": [
    "def nhap_so_lo(): \n",
    "    while True: \n",
    "        so_lo = input(\"Nhập số lô mà bạn muốn chọn (10 - 99): \")\n",
    "        if so_lo.isdigit() and 10 < int(so_lo) < 99: \n",
    "            return int(so_lo)\n",
    "        else: \n",
    "            print('Bạn nhập sai định dạng, vui lòng nhập lại!')"
   ]
  },
  {
   "cell_type": "code",
   "execution_count": 6,
   "metadata": {},
   "outputs": [],
   "source": [
    "def nhap_tien_cuoc(): \n",
    "    global tong_tien\n",
    "    while True: \n",
    "        tien_cuoc = input(\"Nhập số tiền mà bạn muốn cược (tiền cược < tiền bạn đang có): \")\n",
    "        if tien_cuoc.isdigit() and int(tien_cuoc) < tong_tien: \n",
    "            return int(tien_cuoc)\n",
    "        else: \n",
    "            print(\"Số tiền không hợp lệ, vui lòng nhập lại!\")\n"
   ]
  },
  {
   "cell_type": "code",
   "execution_count": 7,
   "metadata": {},
   "outputs": [],
   "source": [
    "def game_quay_so(so_lo, tien_cuoc): \n",
    "    global tong_tien\n",
    "    danh_sach_giai = quay_so()\n",
    "    dem_so_giai = 0 \n",
    "    print(f'Số lô bạn chơi là: {so_lo}')\n",
    "    in_danh_sach_giai(danh_sach_giai)\n",
    "    for giai in danh_sach_giai: \n",
    "        if giai == so_lo: \n",
    "            dem_so_giai += 1\n",
    "    if dem_so_giai > 0: \n",
    "        tong_tien += (tien_cuoc * dem_so_giai) * 70 \n",
    "        print(f'Bạn đã trúng {dem_so_giai} giải!')\n",
    "        print(f'Số tiền bạn đã trúng là {(tien_cuoc * dem_so_giai) * 70}')\n",
    "        print(f'Tổng tiền bạn hiện có là {tong_tien}')\n",
    "    else: \n",
    "        tong_tien -= tien_cuoc\n",
    "        print(f'Bạn đã thua lô')\n",
    "        print(f'Số tiền còn lại của bạn là {tong_tien}')"
   ]
  },
  {
   "cell_type": "code",
   "execution_count": 8,
   "metadata": {},
   "outputs": [],
   "source": [
    "def hien_thi(tong_tien): \n",
    "    print('Chào mừng bạn tới với game Lô Đề học')\n",
    "    print(f'Tài khoản của bạn hiện có: {tong_tien}')\n",
    "    print('Hãy lựa chọn:')\n",
    "    print('1. Chơi game')\n",
    "    print('2. Nạp tiền')\n",
    "    print('3. Thoát')"
   ]
  },
  {
   "cell_type": "code",
   "execution_count": 9,
   "metadata": {},
   "outputs": [],
   "source": [
    "def nap_tien():\n",
    "    global tong_tien\n",
    "    while True: \n",
    "        tien_nap = input('Nhập số tiền bạn muốn nạp: ')\n",
    "        if tien_nap.isdigit(): \n",
    "            tong_tien += int(tien_nap)\n",
    "            print(f'Bạn đã nạp tiền thành công!')\n",
    "            print(f'Bạn hiện tại có {tong_tien}')\n",
    "            while True:\n",
    "                nap_tiep = input(f'Bạn có muốn nạp tiền tiếp hay không ?(1: có, 0: không)')\n",
    "                if nap_tiep.isdigit(): \n",
    "                    if int(nap_tiep) == 0: \n",
    "                        break \n",
    "                    else: \n",
    "                        continue\n",
    "        else: \n",
    "            print(f'Sai rồi, vui lòng lựa chọn lại!') "
   ]
  },
  {
   "cell_type": "code",
   "execution_count": 10,
   "metadata": {},
   "outputs": [],
   "source": [
    "def main():\n",
    "    global tong_tien\n",
    "    hien_thi(tong_tien)\n",
    "    while True:\n",
    "        lua_chon = int(input(\"Bạn chọn: \"))\n",
    "        match lua_chon:\n",
    "            case 1:\n",
    "                clear_output()\n",
    "                while True:\n",
    "                    tien_cuoc = nhap_tien_cuoc()\n",
    "                    so_lo = nhap_so_lo()\n",
    "                    game_quay_so(so_lo, tien_cuoc)\n",
    "                    choi_tiep = int(input(\"Bạn có muốn chơi tiếp không? (0: không, số bất kỳ: có)\"))\n",
    "                    if choi_tiep == 0:\n",
    "                        break\n",
    "                clear_output(wait=True)\n",
    "                main()\n",
    "                break\n",
    "            case 2:\n",
    "                clear_output()\n",
    "                nap_tien()\n",
    "                clear_output(wait=True)\n",
    "                main()\n",
    "                break\n",
    "            case 3:\n",
    "                print(\"Chào bạn, hẹn gặp lại!\")\n",
    "                break\n",
    "            case _:\n",
    "                print(\"Nhập sai lựa chọn, vui lòng nhập lại !\")"
   ]
  },
  {
   "cell_type": "code",
   "execution_count": 11,
   "metadata": {},
   "outputs": [
    {
     "name": "stdout",
     "output_type": "stream",
     "text": [
      "Chào mừng bạn tới với game Lô Đề học\n",
      "Tài khoản của bạn hiện có: 100062\n",
      "Hãy lựa chọn:\n",
      "1. Chơi game\n",
      "2. Nạp tiền\n",
      "3. Thoát\n",
      "Chào bạn, hẹn gặp lại!\n"
     ]
    }
   ],
   "source": [
    "main()"
   ]
  },
  {
   "cell_type": "code",
   "execution_count": null,
   "metadata": {},
   "outputs": [],
   "source": []
  }
 ],
 "metadata": {
  "kernelspec": {
   "display_name": "Nam",
   "language": "python",
   "name": "python3"
  },
  "language_info": {
   "codemirror_mode": {
    "name": "ipython",
    "version": 3
   },
   "file_extension": ".py",
   "mimetype": "text/x-python",
   "name": "python",
   "nbconvert_exporter": "python",
   "pygments_lexer": "ipython3",
   "version": "3.12.2"
  }
 },
 "nbformat": 4,
 "nbformat_minor": 2
}
