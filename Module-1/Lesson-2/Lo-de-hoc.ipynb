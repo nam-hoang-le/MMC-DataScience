{
 "cells": [
  {
   "cell_type": "code",
   "execution_count": 10,
   "metadata": {},
   "outputs": [],
   "source": [
    "import random\n",
    "from IPython.display import clear_output"
   ]
  },
  {
   "cell_type": "code",
   "execution_count": 11,
   "metadata": {},
   "outputs": [],
   "source": [
    "def quay_so(): \n",
    "    danh_sach_giai = [random.randint(10, 99) for _ in range(7)]\n",
    "    return danh_sach_giai"
   ]
  },
  {
   "cell_type": "code",
   "execution_count": 12,
   "metadata": {},
   "outputs": [],
   "source": [
    "def in_danh_sach_giai(danh_sach_giai): \n",
    "    for i, giai in enumerate(danh_sach_giai, start=1):\n",
    "        print(f'Giải {i} là {giai}')\n"
   ]
  },
  {
   "cell_type": "code",
   "execution_count": 13,
   "metadata": {},
   "outputs": [],
   "source": [
    "def nhap_so_lo(): \n",
    "    while True: \n",
    "        try: \n",
    "            numb = int(input('Nhập số lô: '))\n",
    "            if 10 < numb < 99:\n",
    "                print('Xác nhận số lô thành công!') \n",
    "                return numb \n",
    "            else: \n",
    "                print('Vui lòng nhập số trong khoảng giá trị!')\n",
    "        except: \n",
    "            print('Vui lòng chỉ nhập số!')"
   ]
  },
  {
   "cell_type": "code",
   "execution_count": 14,
   "metadata": {},
   "outputs": [],
   "source": [
    "def nhap_tien_cuoc(tong_tien): \n",
    "    while True: \n",
    "        try: \n",
    "            numb = int(input('Nhập tiền cược: '))\n",
    "            if numb < tong_tien: \n",
    "                print('Xác nhận cược thành công!')\n",
    "                return numb \n",
    "            else: \n",
    "                print('Vui lòng cược ít hơn số tiền đang có!')\n",
    "        except: \n",
    "            print('Vui lòng chỉ nhập số!')"
   ]
  },
  {
   "cell_type": "code",
   "execution_count": 15,
   "metadata": {},
   "outputs": [],
   "source": [
    "def hien_thi(tong_tien): \n",
    "    print('Chào mừng bạn tới với game Lô Đề học')\n",
    "    print(f'Tài khoản của bạn hiện có: {tong_tien}')\n",
    "    print('Hãy lựa chọn:')\n",
    "    print('1. Chơi game')\n",
    "    print('2. Nạp tiền')\n",
    "    print('3. Thoát')"
   ]
  },
  {
   "cell_type": "code",
   "execution_count": 16,
   "metadata": {},
   "outputs": [],
   "source": [
    "def lua_chon(): \n",
    "    while True: \n",
    "        try: \n",
    "            numb = int(input('Nhập lựa chọn của bạn: '))\n",
    "            if numb in [1,2,3]: \n",
    "                return numb \n",
    "            else: \n",
    "                print('Vui lòng nhập đúng các lựa chọn')\n",
    "        except: \n",
    "            print('Vui lòng chỉ nhập số!')"
   ]
  },
  {
   "cell_type": "code",
   "execution_count": 17,
   "metadata": {},
   "outputs": [],
   "source": [
    "def trung_giai(so_lo, danh_sach_giai): \n",
    "    return danh_sach_giai.count(so_lo)"
   ]
  },
  {
   "cell_type": "code",
   "execution_count": 18,
   "metadata": {},
   "outputs": [],
   "source": [
    "def cap_nhat_tien(tong_tien, so_lan_trung, tien_cuoc): \n",
    "    return tong_tien - tien_cuoc + so_lan_trung * tien_cuoc*70"
   ]
  },
  {
   "cell_type": "code",
   "execution_count": 19,
   "metadata": {},
   "outputs": [],
   "source": [
    "def nap_tien(tong_tien):\n",
    "    while True: \n",
    "        try: \n",
    "            numb = int(input('Nhập tiền muốn nạp: '))\n",
    "            tong_tien += numb \n",
    "            return tong_tien\n",
    "        except: \n",
    "            print('Vui lòng chỉ nhập số nguyên!')"
   ]
  },
  {
   "cell_type": "code",
   "execution_count": 20,
   "metadata": {},
   "outputs": [],
   "source": [
    "def thong_bao(so_lan_trung): \n",
    "    if so_lan_trung == 0: \n",
    "        print('Rất tiếc, bạn không trúng giải nào cả!')\n",
    "    else: \n",
    "        print(f'Xin chúc mừng, bạn đã trúng {so_lan_trung} giải!')"
   ]
  },
  {
   "cell_type": "code",
   "execution_count": 21,
   "metadata": {},
   "outputs": [],
   "source": [
    "def main(): \n",
    "    tong_tien = 100\n",
    "    hien_thi(tong_tien)\n",
    "    while True:\n",
    "        gia_tri_lua_chon = lua_chon()\n",
    "        if gia_tri_lua_chon == 1: \n",
    "            so_lo = nhap_so_lo()\n",
    "            tien_cuoc = nhap_tien_cuoc(tong_tien)\n",
    "            danh_sach_giai = quay_so()\n",
    "            in_danh_sach_giai(danh_sach_giai)\n",
    "            so_lan_trung = trung_giai(so_lo, danh_sach_giai)\n",
    "            tong_tien = cap_nhat_tien(tong_tien, so_lan_trung, tien_cuoc)\n",
    "            thong_bao(so_lan_trung)\n",
    "            hien_thi(tong_tien)\n",
    "        elif gia_tri_lua_chon == 2: \n",
    "            tong_tien = nap_tien(tong_tien)\n",
    "            hien_thi(tong_tien)\n",
    "        elif gia_tri_lua_chon == 3:\n",
    "            print('Hẹn gặp lại bạn lần sau!')\n",
    "            break"
   ]
  },
  {
   "cell_type": "code",
   "execution_count": 22,
   "metadata": {},
   "outputs": [
    {
     "name": "stdout",
     "output_type": "stream",
     "text": [
      "Chào mừng bạn tới với game Lô Đề học\n",
      "Tài khoản của bạn hiện có: 100\n",
      "Hãy lựa chọn:\n",
      "1. Chơi game\n",
      "2. Nạp tiền\n",
      "3. Thoát\n",
      "Hẹn gặp lại bạn lần sau!\n"
     ]
    }
   ],
   "source": [
    "main()"
   ]
  },
  {
   "cell_type": "code",
   "execution_count": null,
   "metadata": {},
   "outputs": [],
   "source": []
  }
 ],
 "metadata": {
  "kernelspec": {
   "display_name": "Nam",
   "language": "python",
   "name": "python3"
  },
  "language_info": {
   "codemirror_mode": {
    "name": "ipython",
    "version": 3
   },
   "file_extension": ".py",
   "mimetype": "text/x-python",
   "name": "python",
   "nbconvert_exporter": "python",
   "pygments_lexer": "ipython3",
   "version": "3.12.2"
  }
 },
 "nbformat": 4,
 "nbformat_minor": 2
}
