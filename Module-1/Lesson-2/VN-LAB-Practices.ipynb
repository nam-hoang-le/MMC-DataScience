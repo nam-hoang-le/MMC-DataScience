{
 "cells": [
  {
   "cell_type": "markdown",
   "metadata": {},
   "source": [
    "# Exercise 1"
   ]
  },
  {
   "cell_type": "code",
   "execution_count": 82,
   "metadata": {},
   "outputs": [
    {
     "data": {
      "text/plain": [
       "(30.48, 144)"
      ]
     },
     "execution_count": 82,
     "metadata": {},
     "output_type": "execute_result"
    }
   ],
   "source": [
    "# Question 1 \n",
    "def exchange(numb): \n",
    "    return numb* 2.54, numb*12\n",
    "\n",
    "exchange(12)"
   ]
  },
  {
   "cell_type": "code",
   "execution_count": 83,
   "metadata": {},
   "outputs": [
    {
     "name": "stdout",
     "output_type": "stream",
     "text": [
      "0:55:33\n"
     ]
    }
   ],
   "source": [
    "# Question 2\n",
    "def change_second(second): \n",
    "    hour = second // (60*60) \n",
    "    second = second - hour*60*60 \n",
    "    minute = second // 60 \n",
    "    second = second - minute*60 \n",
    "    return f'{hour}:{minute}:{second}'\n",
    "\n",
    "second = int(input('Enter your time:'))\n",
    "if second > 68399 or second < 0: \n",
    "    print('Invalid value')\n",
    "else: \n",
    "    print(change_second(second))"
   ]
  },
  {
   "cell_type": "code",
   "execution_count": 84,
   "metadata": {},
   "outputs": [
    {
     "data": {
      "text/plain": [
       "(3, 3)"
      ]
     },
     "execution_count": 84,
     "metadata": {},
     "output_type": "execute_result"
    }
   ],
   "source": [
    "# Question 3 \n",
    "def max_min_numb(lst): \n",
    "    max_value = lst[0]\n",
    "    min_value = lst[0]\n",
    "    for numb in lst: \n",
    "        if numb > max_value: \n",
    "            max_value = numb \n",
    "        else: \n",
    "            min_value = numb\n",
    "    return max_value, min_value\n",
    "\n",
    "lst = []\n",
    "for i in range(4): \n",
    "    lst.append(int(input('Enter a number:')))\n",
    "max_min_numb(lst)"
   ]
  },
  {
   "cell_type": "code",
   "execution_count": 85,
   "metadata": {},
   "outputs": [],
   "source": [
    "# Question 4 \n",
    "a = int(input('Nhập vào số a:'))\n",
    "b = int(input('Nhập vào số b:'))\n",
    "\n",
    "def difference(a,b): \n",
    "    return a-b \n",
    "\n",
    "result = difference(a,b)\n",
    "if result > 0: \n",
    "    print('Số lớn nhất lớn hơn số thứ hai')\n",
    "elif result > 0: \n",
    "    print('Số thứ hai lớn hơn số thứ nhất')"
   ]
  },
  {
   "cell_type": "code",
   "execution_count": 87,
   "metadata": {},
   "outputs": [
    {
     "data": {
      "text/plain": [
       "True"
      ]
     },
     "execution_count": 87,
     "metadata": {},
     "output_type": "execute_result"
    }
   ],
   "source": [
    "# Question 5 \n",
    "a = int(input('Nhập vào số a:'))\n",
    "b = int(input('Nhập vào số b:'))\n",
    "\n",
    "def divisibility(a,b): \n",
    "    return a%b == 0\n",
    "divisibility(a,b)"
   ]
  },
  {
   "cell_type": "code",
   "execution_count": 88,
   "metadata": {},
   "outputs": [
    {
     "name": "stdout",
     "output_type": "stream",
     "text": [
      "This student is Kém\n"
     ]
    }
   ],
   "source": [
    "# Question 6 \n",
    "def input_mark(numb1, numb2, numb3): \n",
    "    lst = []\n",
    "    lst.append(numb1)\n",
    "    lst.append(numb2)\n",
    "    lst.append(numb3)\n",
    "    return lst \n",
    "\n",
    "def average(lst): \n",
    "    return (lst[0]*2 + lst[1] + lst[2])/4 \n",
    "\n",
    "def rating(avg_mark):\n",
    "    rating = None \n",
    "    if avg_mark >= 9: \n",
    "        rating = 'Xuất sắc'\n",
    "    elif 8 <= avg_mark < 9: \n",
    "        rating = 'Giỏi'\n",
    "    elif 7 <= avg_mark < 8: \n",
    "        rating = 'Khá'\n",
    "    elif 6 <= avg_mark < 7: \n",
    "        rating = 'Trung bình khá'\n",
    "    elif 5 <= avg_mark < 6: \n",
    "        rating = 'Trung bình'\n",
    "    else: \n",
    "        rating = 'Kém'\n",
    "    return rating \n",
    "\n",
    "def show_rating(rating):\n",
    "    print(f'This student is {rating}')\n",
    "\n",
    "numb1 = int(input('Nhấp điểm môn Toán:'))\n",
    "numb2 = int(input('Nhấp điểm môn Lý:'))\n",
    "numb3 = int(input(\"Nhập điểm môn Hóa:\"))\n",
    "lst = input_mark(numb1, numb2, numb3)\n",
    "avg_mark = average(lst)\n",
    "rating = rating(avg_mark)\n",
    "show_rating(rating)"
   ]
  },
  {
   "cell_type": "markdown",
   "metadata": {},
   "source": [
    "# Exercise 2"
   ]
  },
  {
   "cell_type": "code",
   "execution_count": 89,
   "metadata": {},
   "outputs": [
    {
     "data": {
      "text/plain": [
       "32"
      ]
     },
     "execution_count": 89,
     "metadata": {},
     "output_type": "execute_result"
    }
   ],
   "source": [
    "# Question 1 \n",
    "def sum_digits(numb): \n",
    "    sum = 0 \n",
    "    while numb > 0: \n",
    "        sum += numb%10\n",
    "        numb = numb//10\n",
    "    return sum \n",
    "\n",
    "sum_digits(8545604)"
   ]
  },
  {
   "cell_type": "code",
   "execution_count": 90,
   "metadata": {},
   "outputs": [],
   "source": [
    "import math\n",
    "\n",
    "def prime_numb(numb): \n",
    "    if numb < 2: \n",
    "        return False \n",
    "    for i in range(2, int(math.sqrt(numb)) +1): \n",
    "        if numb % i == 0: \n",
    "            return False \n",
    "    return True \n",
    "\n",
    "def lst_prime_numb(): \n",
    "    lst_prime_numb = []\n",
    "    for i in range(100): \n",
    "        if prime_numb(i): \n",
    "            lst_prime_numb.append(i)\n",
    "    return lst_prime_numb\n"
   ]
  },
  {
   "cell_type": "code",
   "execution_count": 91,
   "metadata": {},
   "outputs": [
    {
     "data": {
      "text/plain": [
       "'Số 1.0 được phân tích thành: [2, 2, 7]'"
      ]
     },
     "execution_count": 91,
     "metadata": {},
     "output_type": "execute_result"
    }
   ],
   "source": [
    "# Question 2 \n",
    "def split_prime_numb(numb): \n",
    "    while numb != 1: \n",
    "        lst = []\n",
    "        #lst_prime_numb = lst_prime_numb()\n",
    "        for prime_numb in lst_prime_numb():\n",
    "            while numb % prime_numb == 0: \n",
    "                numb = numb / prime_numb\n",
    "                lst.append(prime_numb)\n",
    "    return f'Số {numb} được phân tích thành: {lst}' \n",
    "\n",
    "split_prime_numb(28)\n",
    "        "
   ]
  },
  {
   "cell_type": "code",
   "execution_count": 92,
   "metadata": {},
   "outputs": [
    {
     "data": {
      "text/plain": [
       "[2,\n",
       " 3,\n",
       " 5,\n",
       " 7,\n",
       " 11,\n",
       " 13,\n",
       " 17,\n",
       " 19,\n",
       " 23,\n",
       " 29,\n",
       " 31,\n",
       " 37,\n",
       " 41,\n",
       " 43,\n",
       " 47,\n",
       " 53,\n",
       " 59,\n",
       " 61,\n",
       " 67,\n",
       " 71,\n",
       " 73,\n",
       " 79,\n",
       " 83,\n",
       " 89,\n",
       " 97]"
      ]
     },
     "execution_count": 92,
     "metadata": {},
     "output_type": "execute_result"
    }
   ],
   "source": [
    "# Question 3: \n",
    "def less_than_n(n): \n",
    "    lst = []\n",
    "    for i in range(n): \n",
    "        if prime_numb(i): \n",
    "            lst.append(i)\n",
    "    return lst \n",
    "\n",
    "less_than_n(100)"
   ]
  },
  {
   "cell_type": "code",
   "execution_count": 93,
   "metadata": {},
   "outputs": [
    {
     "data": {
      "text/plain": [
       "[2, 3, 5, 7, 11, 13, 17, 19, 23, 29, 31, 37, 41, 43, 47, 53, 59, 61, 67, 71]"
      ]
     },
     "execution_count": 93,
     "metadata": {},
     "output_type": "execute_result"
    }
   ],
   "source": [
    "# Question 4\n",
    "def first_n_prime_numb(n): \n",
    "    lst = []\n",
    "    numb = 2\n",
    "    while n > len(lst): \n",
    "        if prime_numb(numb): \n",
    "            lst.append(numb)\n",
    "        numb += 1 \n",
    "    return lst \n",
    "first_n_prime_numb(20)"
   ]
  },
  {
   "cell_type": "code",
   "execution_count": 94,
   "metadata": {},
   "outputs": [
    {
     "data": {
      "text/plain": [
       "(25, 150)"
      ]
     },
     "execution_count": 94,
     "metadata": {},
     "output_type": "execute_result"
    }
   ],
   "source": [
    "# Question 5\n",
    "def lcm_gcd_numb(a,b): \n",
    "    gcd = 1\n",
    "    numb = 1 \n",
    "    while numb <= min(a,b):\n",
    "        if a % numb == 0 and b % numb == 0: \n",
    "            gcd = numb \n",
    "        numb += 1\n",
    "    lcm = int(a*b/gcd)\n",
    "    return gcd, lcm \n",
    "\n",
    "lcm_gcd_numb(50,75)"
   ]
  },
  {
   "cell_type": "code",
   "execution_count": 95,
   "metadata": {},
   "outputs": [
    {
     "data": {
      "text/plain": [
       "8"
      ]
     },
     "execution_count": 95,
     "metadata": {},
     "output_type": "execute_result"
    }
   ],
   "source": [
    "# Question 6 \n",
    "def fibonacci(n): \n",
    "    a = 1 \n",
    "    b = 1 \n",
    "    count = 1\n",
    "    if n == 1: \n",
    "        return b \n",
    "    if n == 0: \n",
    "        return b \n",
    "    while count < n: \n",
    "        c = a+b \n",
    "        a = b        \n",
    "        b = c \n",
    "        count += 1\n",
    "    return c\n",
    "\n",
    "fibonacci(5)\n"
   ]
  },
  {
   "cell_type": "code",
   "execution_count": 96,
   "metadata": {},
   "outputs": [
    {
     "data": {
      "text/plain": [
       "[2, 3, 5, 13, 89]"
      ]
     },
     "execution_count": 96,
     "metadata": {},
     "output_type": "execute_result"
    }
   ],
   "source": [
    "# Question 7 \n",
    "def lst_prime_fibonacci_less_than_n(n): \n",
    "    numb = 1 \n",
    "    lst = []\n",
    "    i = 2\n",
    "    while fibonacci(i) < n:\n",
    "        numb = fibonacci(i)\n",
    "        if prime_numb(numb):\n",
    "            lst.append(numb)\n",
    "        i += 1\n",
    "    return lst \n",
    "lst_prime_fibonacci_less_than_n(100)"
   ]
  },
  {
   "cell_type": "code",
   "execution_count": 98,
   "metadata": {},
   "outputs": [
    {
     "data": {
      "text/plain": [
       "('Số 1.0 được phân tích thành: [2, 2, 7]', 10)"
      ]
     },
     "execution_count": 98,
     "metadata": {},
     "output_type": "execute_result"
    }
   ],
   "source": [
    "# Question 8 \n",
    "def sum_digits_and_prime_divisors(numb): \n",
    "    sum = 0 \n",
    "    numb1 = numb\n",
    "    while numb > 0: \n",
    "        sum += numb%10\n",
    "        numb = numb//10 \n",
    "    while numb1 != 1: \n",
    "        lst = []\n",
    "        for prime_numb in lst_prime_numb():\n",
    "            while numb1 % prime_numb == 0: \n",
    "                numb1 = numb1 / prime_numb\n",
    "                lst.append(prime_numb)\n",
    "    return f'Số {numb1} được phân tích thành: {lst}', sum\n",
    "\n",
    "sum_digits_and_prime_divisors(28)"
   ]
  },
  {
   "cell_type": "code",
   "execution_count": null,
   "metadata": {},
   "outputs": [
    {
     "data": {
      "text/plain": [
       "[1, 2, 4]"
      ]
     },
     "execution_count": 74,
     "metadata": {},
     "output_type": "execute_result"
    }
   ],
   "source": [
    "# Question 9\n",
    "def divisor(n): \n",
    "    i = 1\n",
    "    lst = []\n",
    "    while i <= n: \n",
    "        if n % i == 0: \n",
    "            lst.append(i)\n",
    "        i += 1\n",
    "    return lst \n",
    "\n",
    "divisor(4) "
   ]
  },
  {
   "cell_type": "code",
   "execution_count": null,
   "metadata": {},
   "outputs": [
    {
     "data": {
      "text/plain": [
       "[2]"
      ]
     },
     "execution_count": 76,
     "metadata": {},
     "output_type": "execute_result"
    }
   ],
   "source": [
    "def prime_divisor(n): \n",
    "    i = 1\n",
    "    lst = []\n",
    "    while i <= n: \n",
    "        if n % i == 0 and prime_numb(i): \n",
    "            lst.append(i)\n",
    "        i += 1\n",
    "    return lst \n",
    "\n",
    "prime_divisor(4)"
   ]
  },
  {
   "cell_type": "code",
   "execution_count": null,
   "metadata": {},
   "outputs": [
    {
     "data": {
      "text/plain": [
       "'Na M'"
      ]
     },
     "execution_count": 79,
     "metadata": {},
     "output_type": "execute_result"
    }
   ],
   "source": [
    "# Question 10 \n",
    "def string_normalization(string): \n",
    "    string = string.strip()\n",
    "    string = string.title()\n",
    "    return string \n",
    "\n",
    "string_normalization('  na m  ')"
   ]
  },
  {
   "cell_type": "code",
   "execution_count": 102,
   "metadata": {},
   "outputs": [
    {
     "data": {
      "text/plain": [
       "(6, 'dsa')"
      ]
     },
     "execution_count": 102,
     "metadata": {},
     "output_type": "execute_result"
    }
   ],
   "source": [
    "# Question 11 \n",
    "def find_longest_length(string): \n",
    "    lst_string = string.split()\n",
    "    lst = []\n",
    "    for element in lst_string: \n",
    "        max_length = 0 \n",
    "        if len(element) > max_length: \n",
    "            max_length = len(element)\n",
    "    for element in lst_string: \n",
    "        if len(element) == max_length: \n",
    "            lst.append(element)\n",
    "    return string.find(lst[0]), lst[0]\n",
    "\n",
    "find_longest_length('a b c dsa kja dkl')"
   ]
  },
  {
   "cell_type": "markdown",
   "metadata": {},
   "source": [
    "# Question 3"
   ]
  },
  {
   "cell_type": "code",
   "execution_count": 115,
   "metadata": {},
   "outputs": [
    {
     "name": "stdout",
     "output_type": "stream",
     "text": [
      "*\n",
      "**\n",
      "***\n",
      "****\n",
      "*****\n"
     ]
    }
   ],
   "source": [
    "# Question 1 \n",
    "def print_a(n): \n",
    "    for i in range(1,n+1): \n",
    "        print('*'*i)\n",
    "print_a(5)"
   ]
  },
  {
   "cell_type": "code",
   "execution_count": 114,
   "metadata": {},
   "outputs": [
    {
     "name": "stdout",
     "output_type": "stream",
     "text": [
      "*****\n",
      "****\n",
      "***\n",
      "**\n",
      "*\n"
     ]
    }
   ],
   "source": [
    "def print_b(n): \n",
    "    for i in range(n,0, -1): \n",
    "        print('*'*i)\n",
    "print_b(5)"
   ]
  },
  {
   "cell_type": "code",
   "execution_count": 125,
   "metadata": {},
   "outputs": [
    {
     "name": "stdout",
     "output_type": "stream",
     "text": [
      "*****\n",
      "  ****\n",
      "    ***\n",
      "      **\n",
      "        *\n"
     ]
    }
   ],
   "source": [
    "def print_c(n): \n",
    "    for i in range(n,0, -1): \n",
    "        print('  '*(n-i)+'*'*i)\n",
    "print_c(5)"
   ]
  },
  {
   "cell_type": "code",
   "execution_count": 126,
   "metadata": {},
   "outputs": [
    {
     "name": "stdout",
     "output_type": "stream",
     "text": [
      "        *\n",
      "      **\n",
      "    ***\n",
      "  ****\n",
      "*****\n"
     ]
    }
   ],
   "source": [
    "def print_d(n): \n",
    "    for i in range(1, n+1): \n",
    "        print('  '*(n-i)+'*'*i)\n",
    "print_d(5)"
   ]
  },
  {
   "cell_type": "code",
   "execution_count": 130,
   "metadata": {},
   "outputs": [
    {
     "data": {
      "text/plain": [
       "24"
      ]
     },
     "execution_count": 130,
     "metadata": {},
     "output_type": "execute_result"
    }
   ],
   "source": [
    "def factorial(n): \n",
    "    if n == 0 or n == 1: \n",
    "        return 1  \n",
    "    return n * factorial(n-1)\n",
    "factorial(4)"
   ]
  }
 ],
 "metadata": {
  "kernelspec": {
   "display_name": "Nam",
   "language": "python",
   "name": "python3"
  },
  "language_info": {
   "codemirror_mode": {
    "name": "ipython",
    "version": 3
   },
   "file_extension": ".py",
   "mimetype": "text/x-python",
   "name": "python",
   "nbconvert_exporter": "python",
   "pygments_lexer": "ipython3",
   "version": "3.12.2"
  }
 },
 "nbformat": 4,
 "nbformat_minor": 2
}
