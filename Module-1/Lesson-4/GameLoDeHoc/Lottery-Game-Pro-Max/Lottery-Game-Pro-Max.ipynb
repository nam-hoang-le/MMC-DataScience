{
 "cells": [
  {
   "cell_type": "code",
   "execution_count": 1,
   "id": "3e4c2df9-64cb-4ef1-9941-40513d8d1292",
   "metadata": {
    "id": "3e4c2df9-64cb-4ef1-9941-40513d8d1292"
   },
   "outputs": [],
   "source": [
    "from my_lib import *\n",
    "from IPython.display import clear_output"
   ]
  },
  {
   "cell_type": "code",
   "execution_count": 2,
   "id": "5762173c-1827-4817-aec1-32cbf526961c",
   "metadata": {
    "id": "5762173c-1827-4817-aec1-32cbf526961c"
   },
   "outputs": [],
   "source": [
    "log_in_status = False\n",
    "user = \"\""
   ]
  },
  {
   "cell_type": "code",
   "execution_count": 3,
   "id": "3459c6b2",
   "metadata": {},
   "outputs": [],
   "source": [
    "def log_in():\n",
    "    global log_in_status, user\n",
    "    print(\"---LOTTERY GAME---\")\n",
    "    print(\"Please log in to play game!\")\n",
    "    \n",
    "    while True:\n",
    "        username = input(\"Enter username: \")\n",
    "        password = input(\"Enter password: \")\n",
    "\n",
    "        if check_login(username, password):\n",
    "            user = username\n",
    "            log_in_status = True\n",
    "            break\n",
    "        else:\n",
    "            print(\"Wrong username or password, please try again.\")\n",
    "    clear_output()"
   ]
  },
  {
   "cell_type": "code",
   "execution_count": 4,
   "id": "71f3a30a-4dce-422f-a198-6db0559fd948",
   "metadata": {},
   "outputs": [],
   "source": [
    "def main():\n",
    "    global log_in_status, user\n",
    "    if log_in_status == False:\n",
    "        log_in()\n",
    "    if user == \"admin\":\n",
    "        menu_admin()\n",
    "    else:\n",
    "        menu()    \n",
    "    if user == \"admin\":\n",
    "        while True:\n",
    "            choice = int(input(\"You choose: \"))\n",
    "            match choice:\n",
    "                case 1:\n",
    "                    clear_output(wait=True)\n",
    "                    while True:\n",
    "                        username = input(\"Enter username to create: \")\n",
    "                        if check_account_exist(username) == True:\n",
    "                            print(\"Username existed\")\n",
    "                        elif username == \"admin\":\n",
    "                            print(\"Can't create admin account\")\n",
    "                        else:\n",
    "                            password = input(\"Enter password to create: \")\n",
    "                            total_money = input(\"Enter money: \")\n",
    "                            create_account(username, password, total_money)\n",
    "                        more_choice = int(input(\"Do you want to create more account ? (0: No, 1: Yes))\"))\n",
    "                        if more_choice == 0:\n",
    "                            break\n",
    "                    clear_output()\n",
    "                    main()\n",
    "                    break\n",
    "                case 2:\n",
    "                    clear_output(wait=True)\n",
    "                    while True:\n",
    "                        username = input(\"Enter account to delete: \")\n",
    "                        if check_account_exist(username) == False:\n",
    "                            print(\"Account user doesn't exist\")\n",
    "                        elif username == \"admin\":\n",
    "                            print(\"Can't delete admin account\")\n",
    "                        else:\n",
    "                            delete_account(username)\n",
    "                        more_choice = int(input(\"Do you want to delete more ? (0: No, 1: Yes)\"))\n",
    "                        if more_choice == 0:\n",
    "                            break\n",
    "                    clear_output()\n",
    "                    main()\n",
    "                    break\n",
    "                case 3:\n",
    "                    clear_output(wait=True)\n",
    "                    while True:\n",
    "                        username = input(\"Enter username to insert money: \")\n",
    "                        if check_account_exist(username) == False:\n",
    "                            print(\"Username doesn't exist\")\n",
    "                        else:\n",
    "                            money_insert = int(input(\"Enter money to insert: \"))\n",
    "                            insert_money(username, money_insert)\n",
    "                        more_choice = int(input(\"Do you want to insert more money ? (0: No, 1: Yes)\"))\n",
    "                        if more_choice == 0:\n",
    "                            break\n",
    "                    clear_output()\n",
    "                    main()\n",
    "                    break\n",
    "                case 4:\n",
    "                    clear_output()\n",
    "                    while True:\n",
    "                        statistics_admin()\n",
    "                        more_choice = input(\"Click Enter to go back to menu: \")\n",
    "                        if choice == \"\":\n",
    "                            break\n",
    "                    clear_output()\n",
    "                    main()\n",
    "                    break\n",
    "                case 5:\n",
    "                    log_in_status = False\n",
    "                    print(\"Bye, see you next time!\")\n",
    "                    break\n",
    "                case _:\n",
    "                    print(\"Wrong choice, please enter again !\")\n",
    "    else:\n",
    "        while True:\n",
    "            choice = int(input(\"You choose: \"))\n",
    "            match choice:\n",
    "                case 1:\n",
    "                    clear_output(wait=True)\n",
    "                    while True:\n",
    "                        list_of_lucky_numbers = insert_lucky_number()\n",
    "                        money_playing = enter_money_playing(user, len(list_of_lucky_numbers))\n",
    "                        shuffle_game(user, list_of_lucky_numbers, money_playing)\n",
    "                        more_play = int(input(\"Do you want to continue playing ? (1: Yes, 0: N)\"))\n",
    "                        if more_play == 0:\n",
    "                            break\n",
    "                        else:\n",
    "                            continue\n",
    "                    clear_output()\n",
    "                    main()\n",
    "                    break\n",
    "                case 2:\n",
    "                    clear_output(wait=True)\n",
    "                    while True:\n",
    "                        old_password = input(\"Enter your old password: \")\n",
    "                        if check_account(user, old_password) == \"\":\n",
    "                            print(\"Wrong password !\")\n",
    "                            break\n",
    "                        else:\n",
    "                            new_password = input(\"Enter your new password: \")\n",
    "                            change_password(user, old_password, new_password)\n",
    "                        more_choice = int(input(\"Do you want to change other passwords ? (1: Yes, 0: No)\"))\n",
    "                        if more_choice == 0:\n",
    "                            break\n",
    "                    clear_output()\n",
    "                    main()\n",
    "                    break\n",
    "                case 3:\n",
    "                    clear_output()\n",
    "                    while True:\n",
    "                        statistic_user(user)\n",
    "                        more_choice = input(\"Click Enter to go back to the menu \")\n",
    "                        if choice == \"\":\n",
    "                            break\n",
    "                    clear_output()\n",
    "                    main()\n",
    "                    break\n",
    "                   \n",
    "                case 4:\n",
    "                    log_in_status = False\n",
    "                    print(\"Bye, see you next time!\")\n",
    "                    break\n",
    "                case _:\n",
    "                    print(\"Wrong input, please enter again !\")\n"
   ]
  },
  {
   "cell_type": "code",
   "execution_count": 5,
   "id": "516a2091-edf1-4ca2-89cb-60d1d40bdbda",
   "metadata": {
    "colab": {
     "base_uri": "https://localhost:8080/"
    },
    "executionInfo": {
     "elapsed": 8895,
     "status": "ok",
     "timestamp": 1711077242017,
     "user": {
      "displayName": "Đăng Nguyễn Hải",
      "userId": "10439053523970398060"
     },
     "user_tz": -420
    },
    "id": "230961ee-1cdb-4afc-9df4-51cd69e918cf",
    "outputId": "f94ebb97-1055-4580-8891-5f68059bc61a"
   },
   "outputs": [
    {
     "name": "stdout",
     "output_type": "stream",
     "text": [
      "LOTTERY GAME\n",
      "1. Play game\n",
      "2. Change password\n",
      "3. Statistics\n",
      "4. Log out\n",
      "Bye, see you next time!\n"
     ]
    }
   ],
   "source": [
    "main()"
   ]
  },
  {
   "cell_type": "code",
   "execution_count": null,
   "id": "2cce366e",
   "metadata": {},
   "outputs": [],
   "source": []
  }
 ],
 "metadata": {
  "colab": {
   "provenance": []
  },
  "kernelspec": {
   "display_name": "Python 3 (ipykernel)",
   "language": "python",
   "name": "python3"
  },
  "language_info": {
   "codemirror_mode": {
    "name": "ipython",
    "version": 3
   },
   "file_extension": ".py",
   "mimetype": "text/x-python",
   "name": "python",
   "nbconvert_exporter": "python",
   "pygments_lexer": "ipython3",
   "version": "3.12.2"
  }
 },
 "nbformat": 4,
 "nbformat_minor": 5
}
